{
 "cells": [
  {
   "cell_type": "markdown",
   "id": "db45e4d8",
   "metadata": {
    "toc": true
   },
   "source": [
    "<h1>Table of Contents<span class=\"tocSkip\"></span></h1>\n",
    "<div class=\"toc\"><ul class=\"toc-item\"><li><ul class=\"toc-item\"><li><span><a href=\"#Цель\" data-toc-modified-id=\"Цель-0.1\"><span class=\"toc-item-num\">0.1&nbsp;&nbsp;</span>Цель</a></span></li><li><span><a href=\"#Описание-данных\" data-toc-modified-id=\"Описание-данных-0.2\"><span class=\"toc-item-num\">0.2&nbsp;&nbsp;</span>Описание данных</a></span></li><li><span><a href=\"#План-действий\" data-toc-modified-id=\"План-действий-0.3\"><span class=\"toc-item-num\">0.3&nbsp;&nbsp;</span>План действий</a></span></li></ul></li><li><span><a href=\"#Обзор-данных\" data-toc-modified-id=\"Обзор-данных-1\"><span class=\"toc-item-num\">1&nbsp;&nbsp;</span>Обзор данных</a></span><ul class=\"toc-item\"><li><span><a href=\"#Вывод\" data-toc-modified-id=\"Вывод-1.1\"><span class=\"toc-item-num\">1.1&nbsp;&nbsp;</span>Вывод</a></span></li></ul></li><li><span><a href=\"#EDA\" data-toc-modified-id=\"EDA-2\"><span class=\"toc-item-num\">2&nbsp;&nbsp;</span>EDA</a></span><ul class=\"toc-item\"><li><span><a href=\"#Вывод\" data-toc-modified-id=\"Вывод-2.1\"><span class=\"toc-item-num\">2.1&nbsp;&nbsp;</span>Вывод</a></span></li></ul></li><li><span><a href=\"#Поиск-модели-ML\" data-toc-modified-id=\"Поиск-модели-ML-3\"><span class=\"toc-item-num\">3&nbsp;&nbsp;</span>Поиск модели ML</a></span></li><li><span><a href=\"#Вывод\" data-toc-modified-id=\"Вывод-4\"><span class=\"toc-item-num\">4&nbsp;&nbsp;</span>Вывод</a></span></li></ul></div>"
   ]
  },
  {
   "cell_type": "markdown",
   "id": "359c5cd8",
   "metadata": {},
   "source": [
    "# Поиск оптимальной модели ML для определения рыночной стоимости автомобиля"
   ]
  },
  {
   "cell_type": "markdown",
   "id": "0cc1ab32",
   "metadata": {},
   "source": [
    "### Цель"
   ]
  },
  {
   "cell_type": "markdown",
   "id": "d45e77df",
   "metadata": {},
   "source": [
    "Используя данные автмобильных продаж за несколько лет, найти оптимальную по скорости работы и точности предсказания модель ML. Это поможет сервису по продаже автомобилей с пробегом создать новое приложение и привлечь новых клиентов."
   ]
  },
  {
   "cell_type": "markdown",
   "id": "ecc03748",
   "metadata": {},
   "source": [
    "### Описание данных"
   ]
  },
  {
   "cell_type": "markdown",
   "id": "0a44aab2",
   "metadata": {},
   "source": [
    "Датасет содержит данные за 2г. по 350тыс. объектам.\n",
    "\n",
    "__Признаки__:\n",
    "\n",
    "`DateCrawled` — дата скачивания анкеты из базы  \n",
    "`VehicleType` — тип автомобильного кузова  \n",
    "`RegistrationYear` — год регистрации автомобиля  \n",
    "`Gearbox` — тип коробки передач  \n",
    "`Power` — мощность (л. с.)  \n",
    "`Model` — модель автомобиля  \n",
    "`Kilometer` — пробег (км)  \n",
    "`RegistrationMonth` — месяц регистрации автомобиля  \n",
    "`FuelType` — тип топлива  \n",
    "`Brand` — марка автомобиля  \n",
    "`NotRepaired` — была машина в ремонте или нет  \n",
    "`DateCreated` — дата создания анкеты  \n",
    "`NumberOfPictures` — количество фотографий автомобиля  \n",
    "`PostalCode` — почтовый индекс владельца анкеты (пользователя)  \n",
    "`LastSeen` — дата последней активности пользователя  \n",
    "\n",
    "__Целевой признак__:  \n",
    "`Price` — цена (в евро)"
   ]
  },
  {
   "cell_type": "markdown",
   "id": "1ba76766",
   "metadata": {},
   "source": [
    "### План действий"
   ]
  },
  {
   "cell_type": "markdown",
   "id": "712683ae",
   "metadata": {},
   "source": [
    "- загрузка необходимых библиотек и данных\n",
    "- обзор и пребодработка данных (пропуски, аномалии, дубликаты)\n",
    "- EDA\n",
    "- сравнение нескольких моделей ML\n",
    "- вывод"
   ]
  },
  {
   "cell_type": "markdown",
   "id": "0d2e68a2",
   "metadata": {},
   "source": [
    "## Обзор данных"
   ]
  },
  {
   "cell_type": "code",
   "execution_count": 1,
   "id": "dd82282e",
   "metadata": {},
   "outputs": [],
   "source": [
    "#!pip3 install catboost -U\n",
    "#!pip3 install seaborn --upgrade -U\n",
    "#!pip3 install sklearn --upgrade -U"
   ]
  },
  {
   "cell_type": "code",
   "execution_count": 2,
   "id": "cff2ef30",
   "metadata": {},
   "outputs": [
    {
     "name": "stderr",
     "output_type": "stream",
     "text": [
      "/home/rudbur/anaconda3/envs/praktikum/lib/python3.7/site-packages/sklearn/experimental/enable_hist_gradient_boosting.py:17: UserWarning: Since version 1.0, it is not needed to import enable_hist_gradient_boosting anymore. HistGradientBoostingClassifier and HistGradientBoostingRegressor are now stable and can be normally imported from sklearn.ensemble.\n",
      "  \"Since version 1.0, \"\n"
     ]
    }
   ],
   "source": [
    "import pandas as pd\n",
    "import numpy as np\n",
    "from sklearn.model_selection import train_test_split, cross_val_score, RandomizedSearchCV\n",
    "from sklearn.experimental import enable_hist_gradient_boosting\n",
    "from sklearn.ensemble import HistGradientBoostingRegressor\n",
    "from sklearn.linear_model import LinearRegression\n",
    "from sklearn.tree import DecisionTreeRegressor\n",
    "from sklearn.neighbors import KNeighborsRegressor\n",
    "from sklearn.svm import LinearSVR\n",
    "from sklearn.decomposition import TruncatedSVD, PCA\n",
    "from sklearn.preprocessing import PowerTransformer, StandardScaler, QuantileTransformer, OneHotEncoder\n",
    "import plotly.express as px\n",
    "from sklearn.manifold import TSNE\n",
    "from lightgbm import LGBMRegressor\n",
    "import lightgbm as lgb\n",
    "from catboost import CatBoostRegressor\n",
    "import matplotlib.pyplot as plt\n",
    "import seaborn as sns\n",
    "from time import time\n",
    "import warnings \n",
    "warnings.filterwarnings('ignore')"
   ]
  },
  {
   "cell_type": "code",
   "execution_count": 3,
   "id": "687770ab",
   "metadata": {},
   "outputs": [],
   "source": [
    "try: \n",
    "    df = pd.read_csv('datasets/autos.csv', parse_dates=['LastSeen', 'DateCrawled'])\n",
    "except FileNotFoundError:\n",
    "    df = pd.read_csv('autos.csv', parse_dates=['LastSeen', 'DateCrawled'])"
   ]
  },
  {
   "cell_type": "code",
   "execution_count": 4,
   "id": "6761d0f8",
   "metadata": {
    "scrolled": false
   },
   "outputs": [
    {
     "data": {
      "text/plain": [
       "(354369, 16)"
      ]
     },
     "metadata": {},
     "output_type": "display_data"
    },
    {
     "data": {
      "text/html": [
       "<div>\n",
       "<style scoped>\n",
       "    .dataframe tbody tr th:only-of-type {\n",
       "        vertical-align: middle;\n",
       "    }\n",
       "\n",
       "    .dataframe tbody tr th {\n",
       "        vertical-align: top;\n",
       "    }\n",
       "\n",
       "    .dataframe thead th {\n",
       "        text-align: right;\n",
       "    }\n",
       "</style>\n",
       "<table border=\"1\" class=\"dataframe\">\n",
       "  <thead>\n",
       "    <tr style=\"text-align: right;\">\n",
       "      <th></th>\n",
       "      <th>DateCrawled</th>\n",
       "      <th>Price</th>\n",
       "      <th>VehicleType</th>\n",
       "      <th>RegistrationYear</th>\n",
       "      <th>Gearbox</th>\n",
       "      <th>Power</th>\n",
       "      <th>Model</th>\n",
       "      <th>Kilometer</th>\n",
       "      <th>RegistrationMonth</th>\n",
       "      <th>FuelType</th>\n",
       "      <th>Brand</th>\n",
       "      <th>NotRepaired</th>\n",
       "      <th>DateCreated</th>\n",
       "      <th>NumberOfPictures</th>\n",
       "      <th>PostalCode</th>\n",
       "      <th>LastSeen</th>\n",
       "    </tr>\n",
       "  </thead>\n",
       "  <tbody>\n",
       "    <tr>\n",
       "      <th>0</th>\n",
       "      <td>2016-03-24 11:52:17</td>\n",
       "      <td>480</td>\n",
       "      <td>NaN</td>\n",
       "      <td>1993</td>\n",
       "      <td>manual</td>\n",
       "      <td>0</td>\n",
       "      <td>golf</td>\n",
       "      <td>150000</td>\n",
       "      <td>0</td>\n",
       "      <td>petrol</td>\n",
       "      <td>volkswagen</td>\n",
       "      <td>NaN</td>\n",
       "      <td>2016-03-24 00:00:00</td>\n",
       "      <td>0</td>\n",
       "      <td>70435</td>\n",
       "      <td>2016-04-07 03:16:57</td>\n",
       "    </tr>\n",
       "    <tr>\n",
       "      <th>1</th>\n",
       "      <td>2016-03-24 10:58:45</td>\n",
       "      <td>18300</td>\n",
       "      <td>coupe</td>\n",
       "      <td>2011</td>\n",
       "      <td>manual</td>\n",
       "      <td>190</td>\n",
       "      <td>NaN</td>\n",
       "      <td>125000</td>\n",
       "      <td>5</td>\n",
       "      <td>gasoline</td>\n",
       "      <td>audi</td>\n",
       "      <td>yes</td>\n",
       "      <td>2016-03-24 00:00:00</td>\n",
       "      <td>0</td>\n",
       "      <td>66954</td>\n",
       "      <td>2016-04-07 01:46:50</td>\n",
       "    </tr>\n",
       "  </tbody>\n",
       "</table>\n",
       "</div>"
      ],
      "text/plain": [
       "          DateCrawled  Price VehicleType  RegistrationYear Gearbox  Power  \\\n",
       "0 2016-03-24 11:52:17    480         NaN              1993  manual      0   \n",
       "1 2016-03-24 10:58:45  18300       coupe              2011  manual    190   \n",
       "\n",
       "  Model  Kilometer  RegistrationMonth  FuelType       Brand NotRepaired  \\\n",
       "0  golf     150000                  0    petrol  volkswagen         NaN   \n",
       "1   NaN     125000                  5  gasoline        audi         yes   \n",
       "\n",
       "           DateCreated  NumberOfPictures  PostalCode            LastSeen  \n",
       "0  2016-03-24 00:00:00                 0       70435 2016-04-07 03:16:57  \n",
       "1  2016-03-24 00:00:00                 0       66954 2016-04-07 01:46:50  "
      ]
     },
     "execution_count": 4,
     "metadata": {},
     "output_type": "execute_result"
    }
   ],
   "source": [
    "display(df.shape)\n",
    "df.head(2)"
   ]
  },
  {
   "cell_type": "code",
   "execution_count": 5,
   "id": "d1f9a17a",
   "metadata": {},
   "outputs": [],
   "source": [
    "#преобразование заголовков в snake_case\n",
    "headers = []\n",
    "for Header in df.columns:\n",
    "    headers.append(''.join('_'+c.lower() if c.isupper() else c for c in Header).lstrip('_'))\n",
    "df.columns = headers"
   ]
  },
  {
   "cell_type": "code",
   "execution_count": 6,
   "id": "c4c9fb23",
   "metadata": {},
   "outputs": [
    {
     "data": {
      "text/plain": [
       "'Объявления за период: 2014-03-10 00:00:00 - 2016-04-07 00:00:00'"
      ]
     },
     "metadata": {},
     "output_type": "display_data"
    },
    {
     "data": {
      "text/plain": [
       "'number_of_pictures, уникальные записи: 0'"
      ]
     },
     "metadata": {},
     "output_type": "display_data"
    }
   ],
   "source": [
    "#года размещения объявлений\n",
    "display(f'Объявления за период: {df.date_created.min()} - {df.date_created.max()}')\n",
    "display(f'number_of_pictures, уникальные записи: {df.number_of_pictures.unique()[0]}')"
   ]
  },
  {
   "cell_type": "code",
   "execution_count": 7,
   "id": "6d9ccad8",
   "metadata": {},
   "outputs": [],
   "source": [
    "#очистка датасета от ненужных (лишних, не могущих влиять на стоимость автомобиля) признаков\n",
    "df['month_created'] = pd.DatetimeIndex(df['date_created']).month.astype('object')\n",
    "df.drop(\n",
    "    ['date_crawled', 'last_seen', 'number_of_pictures','registration_month', 'date_created'], \n",
    "    inplace=True, errors='ignore', axis=1)"
   ]
  },
  {
   "cell_type": "code",
   "execution_count": 8,
   "id": "6fa888aa",
   "metadata": {},
   "outputs": [],
   "source": [
    "#преобразование категориальных признаков в категориальный тип данных\n",
    "categorical = df.select_dtypes('object').columns.to_list()\n",
    "numerical = df.columns.difference(categorical).drop('price', errors='ignore')\n",
    "\n",
    "df[categorical]=df[categorical].astype('category')"
   ]
  },
  {
   "cell_type": "code",
   "execution_count": 9,
   "id": "0450e5ae",
   "metadata": {
    "scrolled": false
   },
   "outputs": [
    {
     "data": {
      "text/plain": [
       "vehicle_type    0.08\n",
       "gearbox         0.04\n",
       "fuel_type       0.07\n",
       "not_repaired    0.18\n",
       "dtype: float64"
      ]
     },
     "execution_count": 9,
     "metadata": {},
     "output_type": "execute_result"
    }
   ],
   "source": [
    "#оставим в датасете только объекты с непропущенным значением model и суммарным количеством пропусков < 4\n",
    "#отобразим долю оставшихся пропусков\n",
    "#заметим, что целевой признак без пропусков\n",
    "df=df[(df.isna().sum(axis=1)<4) & (df['model'].notna())]\n",
    "df.isna().mean()[~df.notna().all()].round(2)"
   ]
  },
  {
   "cell_type": "code",
   "execution_count": 10,
   "id": "f420dcec",
   "metadata": {
    "scrolled": false
   },
   "outputs": [
    {
     "data": {
      "text/plain": [
       "'duplicates ratio: 6.2%'"
      ]
     },
     "metadata": {},
     "output_type": "display_data"
    }
   ],
   "source": [
    "#доля дубликатов и их удаление\n",
    "display(f'duplicates ratio: {df.duplicated().mean():.1%}')\n",
    "df.drop_duplicates(inplace=True)"
   ]
  },
  {
   "cell_type": "code",
   "execution_count": 11,
   "id": "3a72c3e9",
   "metadata": {
    "scrolled": false
   },
   "outputs": [
    {
     "data": {
      "text/plain": [
       "price                3653\n",
       "vehicle_type            8\n",
       "registration_year     117\n",
       "gearbox                 2\n",
       "power                 682\n",
       "model                 250\n",
       "kilometer              13\n",
       "fuel_type               7\n",
       "brand                  39\n",
       "not_repaired            2\n",
       "postal_code          8128\n",
       "month_created           9\n",
       "dtype: int64"
      ]
     },
     "execution_count": 11,
     "metadata": {},
     "output_type": "execute_result"
    }
   ],
   "source": [
    "df.nunique()"
   ]
  },
  {
   "cell_type": "code",
   "execution_count": 12,
   "id": "d65c5b99",
   "metadata": {
    "scrolled": false
   },
   "outputs": [
    {
     "data": {
      "text/plain": [
       "['petrol', 'gasoline', NaN, 'lpg', 'other', 'hybrid', 'cng', 'electric']\n",
       "Categories (7, object): ['cng', 'electric', 'gasoline', 'hybrid', 'lpg', 'other', 'petrol']"
      ]
     },
     "metadata": {},
     "output_type": "display_data"
    },
    {
     "data": {
      "text/plain": [
       "[NaN, 'suv', 'small', 'sedan', 'convertible', 'bus', 'wagon', 'coupe', 'other']\n",
       "Categories (8, object): ['bus', 'convertible', 'coupe', 'other', 'sedan', 'small', 'suv', 'wagon']"
      ]
     },
     "metadata": {},
     "output_type": "display_data"
    }
   ],
   "source": [
    "#gasoline == petrol == бензин\n",
    "display(df.fuel_type.unique(), df.vehicle_type.unique())\n",
    "df.loc[df.fuel_type == 'gasoline', 'fuel_type'] = 'petrol'"
   ]
  },
  {
   "cell_type": "code",
   "execution_count": 13,
   "id": "957f240f",
   "metadata": {},
   "outputs": [],
   "source": [
    "#заполнение пропусков в нескольких категориальных признаках.\n",
    "#группируем по году выпуска и модели автомобиля, находим моду и ей заполняем пропуски. если мод несколько\n",
    "#или мода отсутствует - оставляем пропуски в группе без изменений. \n",
    "#повторяем операцию с группировкой только по модели\n",
    "\n",
    "columns_to_fillna = ['vehicle_type','gearbox','fuel_type','not_repaired']\n",
    "\n",
    "_ = (\n",
    "    df.groupby(['registration_year', 'model'])[columns_to_fillna]\n",
    "    .transform(lambda x: x.fillna(x.mode()[0]) if len(x.mode()) == 1 else x)\n",
    ")\n",
    "df[columns_to_fillna] = _\n",
    "\n",
    "_ = (\n",
    "    df.groupby('model')[columns_to_fillna]\n",
    "    .transform(lambda x: x.fillna(x.mode()[0]) if len(x.mode()) == 1 else x)\n",
    ")\n",
    "df[columns_to_fillna] = _\n",
    "\n",
    "del _"
   ]
  },
  {
   "cell_type": "code",
   "execution_count": 14,
   "id": "d0997208",
   "metadata": {},
   "outputs": [
    {
     "data": {
      "text/plain": [
       "price                0\n",
       "vehicle_type         5\n",
       "registration_year    0\n",
       "gearbox              0\n",
       "power                0\n",
       "model                0\n",
       "kilometer            0\n",
       "fuel_type            0\n",
       "brand                0\n",
       "not_repaired         4\n",
       "postal_code          0\n",
       "month_created        0\n",
       "dtype: int64"
      ]
     },
     "execution_count": 14,
     "metadata": {},
     "output_type": "execute_result"
    }
   ],
   "source": [
    "df.isna().sum()"
   ]
  },
  {
   "cell_type": "code",
   "execution_count": 15,
   "id": "def811b3",
   "metadata": {},
   "outputs": [],
   "source": [
    "#удалим оставшиеся пропуски\n",
    "df.dropna(inplace=True)"
   ]
  },
  {
   "cell_type": "code",
   "execution_count": 16,
   "id": "1c4e3280",
   "metadata": {},
   "outputs": [
    {
     "data": {
      "text/plain": [
       "(310185, 12)"
      ]
     },
     "execution_count": 16,
     "metadata": {},
     "output_type": "execute_result"
    }
   ],
   "source": [
    "df.shape"
   ]
  },
  {
   "cell_type": "markdown",
   "id": "f6932de5",
   "metadata": {},
   "source": [
    "### Вывод"
   ]
  },
  {
   "cell_type": "markdown",
   "id": "929c9174",
   "metadata": {},
   "source": [
    "- датасет на входе содержит около 350тыс. объектов, 16 признаков (включая целевой)\n",
    "- данные собраны за период 2014 - 2016гг.\n",
    "- часть объектов и признаков удалили, т.к. они содержали пропуски, дублировали другие объекты, или просто оказались нерелевантными\n",
    "- пропуски в категориальных признаках заменены модой по группе __модель и год регистрации автомобиля__\n",
    "- датасет на выходе 310тыс. объектов и 12 признаков (включая целевой) числового и категориального типов"
   ]
  },
  {
   "cell_type": "markdown",
   "id": "7ba0f6a8",
   "metadata": {},
   "source": [
    "## EDA"
   ]
  },
  {
   "cell_type": "code",
   "execution_count": 17,
   "id": "343906b6",
   "metadata": {},
   "outputs": [],
   "source": [
    "#популярность марки\n",
    "brand_ratio = df.groupby('brand').agg('count').price.sort_values(ascending=False)/len(df)*100\n",
    "brand_ratio.name = 'ratio'"
   ]
  },
  {
   "cell_type": "code",
   "execution_count": 18,
   "id": "e04d7270",
   "metadata": {},
   "outputs": [
    {
     "data": {
      "text/plain": [
       "<matplotlib.axes._subplots.AxesSubplot at 0x7f68d1289c10>"
      ]
     },
     "execution_count": 18,
     "metadata": {},
     "output_type": "execute_result"
    },
    {
     "data": {
      "image/png": "[encoded data removed]",
      "text/plain": [
       "<Figure size 720x504 with 1 Axes>"
      ]
     },
     "metadata": {
      "needs_background": "light"
     },
     "output_type": "display_data"
    }
   ],
   "source": [
    "plt.figure(figsize=(10,7))\n",
    "plt.grid()\n",
    "sns.barplot(x=brand_ratio, y=brand_ratio.index.astype(str))"
   ]
  },
  {
   "cell_type": "code",
   "execution_count": 19,
   "id": "4b68d84f",
   "metadata": {
    "scrolled": false
   },
   "outputs": [
    {
     "data": {
      "image/png": "[encoded data removed]",
      "text/plain": [
       "<Figure size 720x360 with 5 Axes>"
      ]
     },
     "metadata": {
      "needs_background": "light"
     },
     "output_type": "display_data"
    }
   ],
   "source": [
    "#numerical features with outliers\n",
    "fig, axes = plt.subplots(1,len(numerical)+1, figsize=(10,5))\n",
    "\n",
    "for name, ax in zip(numerical.to_list()+['price'], axes.flatten()):\n",
    "    sns.boxplot(y=df[name].sample(frac=.1), orient='v', ax=ax, width = .3)\n",
    "fig.tight_layout()"
   ]
  },
  {
   "cell_type": "code",
   "execution_count": 20,
   "id": "98181812",
   "metadata": {
    "scrolled": false
   },
   "outputs": [
    {
     "data": {
      "text/plain": [
       "<matplotlib.axes._subplots.AxesSubplot at 0x7f68c5b99a90>"
      ]
     },
     "execution_count": 20,
     "metadata": {},
     "output_type": "execute_result"
    },
    {
     "data": {
      "image/png": "[encoded data removed]",
      "text/plain": [
       "<Figure size 432x288 with 1 Axes>"
      ]
     },
     "metadata": {
      "needs_background": "light"
     },
     "output_type": "display_data"
    }
   ],
   "source": [
    "#распределения численных и целевого признаков\n",
    "plt.xlim(0,200000)\n",
    "sns.histplot(df.kilometer)"
   ]
  },
  {
   "cell_type": "code",
   "execution_count": 21,
   "id": "4b36467d",
   "metadata": {
    "scrolled": false
   },
   "outputs": [
    {
     "data": {
      "text/plain": [
       "<matplotlib.axes._subplots.AxesSubplot at 0x7f68c5bb1d90>"
      ]
     },
     "execution_count": 21,
     "metadata": {},
     "output_type": "execute_result"
    },
    {
     "data": {
      "image/png": "[encoded data removed]",
      "text/plain": [
       "<Figure size 432x288 with 1 Axes>"
      ]
     },
     "metadata": {
      "needs_background": "light"
     },
     "output_type": "display_data"
    }
   ],
   "source": [
    "plt.xlim(10,300)\n",
    "sns.histplot(df.power.sample(frac=.05))"
   ]
  },
  {
   "cell_type": "code",
   "execution_count": 22,
   "id": "1d9fe8a1",
   "metadata": {
    "scrolled": true
   },
   "outputs": [
    {
     "data": {
      "text/plain": [
       "<matplotlib.axes._subplots.AxesSubplot at 0x7f68c2f63e50>"
      ]
     },
     "execution_count": 22,
     "metadata": {},
     "output_type": "execute_result"
    },
    {
     "data": {
      "image/png": "[encoded data removed]",
      "text/plain": [
       "<Figure size 432x288 with 1 Axes>"
      ]
     },
     "metadata": {
      "needs_background": "light"
     },
     "output_type": "display_data"
    }
   ],
   "source": [
    "plt.xlim(1970,2020)\n",
    "sns.histplot(df.registration_year.sample(frac=.05))"
   ]
  },
  {
   "cell_type": "code",
   "execution_count": 23,
   "id": "db3dab47",
   "metadata": {
    "scrolled": false
   },
   "outputs": [
    {
     "data": {
      "text/plain": [
       "<matplotlib.axes._subplots.AxesSubplot at 0x7f6888e69d10>"
      ]
     },
     "execution_count": 23,
     "metadata": {},
     "output_type": "execute_result"
    },
    {
     "data": {
      "image/png": "[encoded data removed]",
      "text/plain": [
       "<Figure size 432x288 with 1 Axes>"
      ]
     },
     "metadata": {
      "needs_background": "light"
     },
     "output_type": "display_data"
    }
   ],
   "source": [
    "sns.histplot(df.price.sample(frac=.1))"
   ]
  },
  {
   "cell_type": "code",
   "execution_count": 24,
   "id": "5d95d62c",
   "metadata": {
    "scrolled": true
   },
   "outputs": [
    {
     "data": {
      "text/html": [
       "<div>\n",
       "<style scoped>\n",
       "    .dataframe tbody tr th:only-of-type {\n",
       "        vertical-align: middle;\n",
       "    }\n",
       "\n",
       "    .dataframe tbody tr th {\n",
       "        vertical-align: top;\n",
       "    }\n",
       "\n",
       "    .dataframe thead th {\n",
       "        text-align: right;\n",
       "    }\n",
       "</style>\n",
       "<table border=\"1\" class=\"dataframe\">\n",
       "  <thead>\n",
       "    <tr style=\"text-align: right;\">\n",
       "      <th></th>\n",
       "      <th>kilometer</th>\n",
       "      <th>postal_code</th>\n",
       "      <th>power</th>\n",
       "      <th>registration_year</th>\n",
       "      <th>price</th>\n",
       "    </tr>\n",
       "  </thead>\n",
       "  <tbody>\n",
       "    <tr>\n",
       "      <th>kilometer</th>\n",
       "      <td>1.00</td>\n",
       "      <td>-0.02</td>\n",
       "      <td>0.02</td>\n",
       "      <td>-0.06</td>\n",
       "      <td>-0.36</td>\n",
       "    </tr>\n",
       "    <tr>\n",
       "      <th>postal_code</th>\n",
       "      <td>-0.02</td>\n",
       "      <td>1.00</td>\n",
       "      <td>0.02</td>\n",
       "      <td>0.00</td>\n",
       "      <td>0.08</td>\n",
       "    </tr>\n",
       "    <tr>\n",
       "      <th>power</th>\n",
       "      <td>0.02</td>\n",
       "      <td>0.02</td>\n",
       "      <td>1.00</td>\n",
       "      <td>0.01</td>\n",
       "      <td>0.15</td>\n",
       "    </tr>\n",
       "    <tr>\n",
       "      <th>registration_year</th>\n",
       "      <td>-0.06</td>\n",
       "      <td>0.00</td>\n",
       "      <td>0.01</td>\n",
       "      <td>1.00</td>\n",
       "      <td>0.06</td>\n",
       "    </tr>\n",
       "    <tr>\n",
       "      <th>price</th>\n",
       "      <td>-0.36</td>\n",
       "      <td>0.08</td>\n",
       "      <td>0.15</td>\n",
       "      <td>0.06</td>\n",
       "      <td>1.00</td>\n",
       "    </tr>\n",
       "  </tbody>\n",
       "</table>\n",
       "</div>"
      ],
      "text/plain": [
       "                   kilometer  postal_code  power  registration_year  price\n",
       "kilometer               1.00        -0.02   0.02              -0.06  -0.36\n",
       "postal_code            -0.02         1.00   0.02               0.00   0.08\n",
       "power                   0.02         0.02   1.00               0.01   0.15\n",
       "registration_year      -0.06         0.00   0.01               1.00   0.06\n",
       "price                  -0.36         0.08   0.15               0.06   1.00"
      ]
     },
     "execution_count": 24,
     "metadata": {},
     "output_type": "execute_result"
    }
   ],
   "source": [
    "#корреляция признаков\n",
    "df[numerical.to_list()+['price']].corr().round(2)"
   ]
  },
  {
   "cell_type": "code",
   "execution_count": 25,
   "id": "5decf61d",
   "metadata": {},
   "outputs": [],
   "source": [
    "#очистим датасет он неправдободобных значений признаков (цена, год регистрации, мощность)\n",
    "POWER = {'min':10, 'max':1000}\n",
    "YEAR = {'min':1900, 'max':2020}\n",
    "PRICE = {'min':10, 'max':df.power.max()}\n",
    "\n",
    "filter_power = df.power.between(POWER['min'], POWER['max'])\n",
    "filter_year = df.registration_year.between(YEAR['min'], YEAR['max'])\n",
    "filter_price = df.price.between(PRICE['min'], PRICE['max'])\n",
    "filter_all = filter_power&filter_year&filter_price"
   ]
  },
  {
   "cell_type": "code",
   "execution_count": 26,
   "id": "540ba7c3",
   "metadata": {},
   "outputs": [],
   "source": [
    "df = df[filter_all]"
   ]
  },
  {
   "cell_type": "markdown",
   "id": "3a57b900",
   "metadata": {},
   "source": [
    "### Вывод"
   ]
  },
  {
   "cell_type": "markdown",
   "id": "be7dfa21",
   "metadata": {},
   "source": [
    "- автомобильные марки представлены сильно неравномерно\n",
    "- числовые признаки содержат outliers. Очистка датасета от них может улучшить качество моделей.\n",
    "- автомобили с пробегом > 150тыс.км. в датасете не представлены\n",
    "- слабая отрицательная корреляция пробега с ценой"
   ]
  },
  {
   "cell_type": "markdown",
   "id": "8427078c",
   "metadata": {},
   "source": [
    "## Поиск модели ML"
   ]
  },
  {
   "cell_type": "code",
   "execution_count": 27,
   "id": "d06b77b3",
   "metadata": {},
   "outputs": [],
   "source": [
    "#некоторые модели умеют работать с признаками категориального типа, другим нужен OHE\n",
    "y = df.price\n",
    "X = df.drop('price', errors='ignore', axis=1).copy()\n",
    "X_= pd.get_dummies(X, columns=categorical, drop_first=True)"
   ]
  },
  {
   "cell_type": "code",
   "execution_count": 28,
   "id": "ceee4f70",
   "metadata": {},
   "outputs": [],
   "source": [
    "X_train, X_test, y_train, y_test = train_test_split(X, y, test_size=.25, random_state=42)\n",
    "X_train_, X_test_ = train_test_split(X_, test_size=.25, random_state=42)"
   ]
  },
  {
   "cell_type": "code",
   "execution_count": 29,
   "id": "5ca1e2e2",
   "metadata": {},
   "outputs": [],
   "source": [
    "#инициализируем модели с гиперпараметри по умолчанию (кроме cat, у которого уменьшим число итераций)\n",
    "linear = LinearRegression()\n",
    "tree = DecisionTreeRegressor(random_state=42)\n",
    "hist = HistGradientBoostingRegressor(random_state=42)\n",
    "lgbm = LGBMRegressor(random_state=42, n_jobs=-1)\n",
    "cat = CatBoostRegressor(verbose=False, cat_features=categorical, iterations=100, random_state=42)\n",
    "\n",
    "estimators = {'linear':linear, 'tree':tree, 'hist':hist, 'lgbm':lgbm, 'cat':cat}"
   ]
  },
  {
   "cell_type": "code",
   "execution_count": 30,
   "id": "664112e8",
   "metadata": {
    "scrolled": true
   },
   "outputs": [
    {
     "data": {
      "text/plain": [
       "'estimator | RMSE | time_fit | time_pred'"
      ]
     },
     "metadata": {},
     "output_type": "display_data"
    },
    {
     "data": {
      "text/plain": [
       "'linear    | 2766 |   13.9   |      0.20'"
      ]
     },
     "metadata": {},
     "output_type": "display_data"
    },
    {
     "data": {
      "text/plain": [
       "'tree      | 2354 |   13.3   |      0.21'"
      ]
     },
     "metadata": {},
     "output_type": "display_data"
    },
    {
     "data": {
      "text/plain": [
       "'hist      | 1728 |   52.1   |      0.75'"
      ]
     },
     "metadata": {},
     "output_type": "display_data"
    },
    {
     "data": {
      "text/plain": [
       "'lgbm      | 1683 |   3.2    |      0.70'"
      ]
     },
     "metadata": {},
     "output_type": "display_data"
    },
    {
     "data": {
      "text/plain": [
       "'cat       | 1733 |   9.8    |      0.10'"
      ]
     },
     "metadata": {},
     "output_type": "display_data"
    },
    {
     "name": "stdout",
     "output_type": "stream",
     "text": [
      "CPU times: user 3min 30s, sys: 16.1 s, total: 3min 46s\n",
      "Wall time: 2min 32s\n"
     ]
    }
   ],
   "source": [
    "%%time \n",
    "#ячейка выполняется ~2мин на 2ух ядрах\n",
    "#измерим RMSE и время обучения/предсказания моделей \n",
    "#увидим быструю и наиболее точную работу LGBM. Cat предсказывает мгновенно и тоже точно, \n",
    "#однако т.к. далее мы будем искать перебором лучшие гиперпараметры, \n",
    "#то предпочтём LGBM в условиях ограниченных мощностей.\n",
    "\n",
    "scoring='neg_root_mean_squared_error'\n",
    "\n",
    "display(f'estimator | RMSE | time_fit | time_pred',)\n",
    "for _ in estimators.keys():\n",
    "    if _ in ['lgbm', 'cat']:\n",
    "        xtrain = X_train\n",
    "        xtest = X_test\n",
    "    else:\n",
    "        xtrain = X_train_\n",
    "        xtest = X_test_\n",
    "    start_fit = time()\n",
    "    estimators[_].fit(xtrain, y_train)\n",
    "    end_fit = time()\n",
    "    start_pred = time()\n",
    "    estimators[_].predict(xtest)\n",
    "    end_pred = time()\n",
    "    rmse = cross_val_score(\n",
    "        estimators[_], xtest, y_test, scoring=scoring, cv=3, n_jobs=-1).mean().__int__().__abs__()\n",
    "    clock_fit = end_fit - start_fit\n",
    "    clock_pred = end_pred - start_pred\n",
    "    display(f'{_:<10}|{rmse:^6}|{clock_fit:^10,.1f}|{clock_pred:>10,.2f}')\n",
    "del xtrain, xtest, X_"
   ]
  },
  {
   "cell_type": "code",
   "execution_count": 31,
   "id": "e42a4ad3",
   "metadata": {},
   "outputs": [],
   "source": [
    "#подберём лучшие гиперпараметры для LGBM и захардкодим их\n",
    "\n",
    "param_grid = {\n",
    "    'max_depth': [20], \n",
    "    'num_leaves': [60], \n",
    "    'learning_rate': [.1], \n",
    "    'n_estimators': [400]}\n",
    "\n",
    "search = RandomizedSearchCV(cv=3, estimator=lgbm, param_distributions=param_grid, scoring=scoring,\n",
    "    refit=True, return_train_score=False, verbose=10, n_jobs=-1, n_iter=50, random_state=42)"
   ]
  },
  {
   "cell_type": "code",
   "execution_count": 32,
   "id": "e8c301af",
   "metadata": {
    "scrolled": true
   },
   "outputs": [
    {
     "name": "stdout",
     "output_type": "stream",
     "text": [
      "Fitting 3 folds for each of 1 candidates, totalling 3 fits\n"
     ]
    },
    {
     "data": {
      "text/plain": [
       "{'num_leaves': 60, 'n_estimators': 400, 'max_depth': 20, 'learning_rate': 0.1}"
      ]
     },
     "metadata": {},
     "output_type": "display_data"
    },
    {
     "data": {
      "text/plain": [
       "1652"
      ]
     },
     "execution_count": 32,
     "metadata": {},
     "output_type": "execute_result"
    }
   ],
   "source": [
    "#лучшие гиперпараметры и RMSE\n",
    "search.fit(X_train, y_train)\n",
    "display(search.best_params_)\n",
    "cross_val_score(\n",
    "    search.best_estimator_, X_test, y_test, scoring=scoring, cv=3, n_jobs=-1).mean().__abs__().__int__()"
   ]
  },
  {
   "cell_type": "code",
   "execution_count": 33,
   "id": "86429807",
   "metadata": {
    "scrolled": true
   },
   "outputs": [
    {
     "data": {
      "text/plain": [
       "<matplotlib.axes._subplots.AxesSubplot at 0x7f6884fd7590>"
      ]
     },
     "execution_count": 33,
     "metadata": {},
     "output_type": "execute_result"
    },
    {
     "data": {
      "image/png": "[encoded data removed]",
      "text/plain": [
       "<Figure size 720x360 with 1 Axes>"
      ]
     },
     "metadata": {
      "needs_background": "light"
     },
     "output_type": "display_data"
    }
   ],
   "source": [
    "#переобучим модель с лучшими гиперпараметрами на всей выборке\n",
    "#отобразим важность признаков\n",
    "best_estimator = search.best_estimator_.fit(X,y)\n",
    "lgb.plot_importance(best_estimator, figsize=(10,5))"
   ]
  },
  {
   "cell_type": "markdown",
   "id": "2f6c7452",
   "metadata": {},
   "source": [
    "## Вывод"
   ]
  },
  {
   "cell_type": "markdown",
   "id": "d712c8c0",
   "metadata": {},
   "source": [
    "Построенная модель типа LGBM оптимальна по точности (__RMSE=1652__) и скорости предсказания, и скорости обучения. Для создания нового приложения рекомендуем использоваться её.\n",
    " \n",
    "- опробованы несколько разных видов моделей ML\n",
    "- для всех, кроме LinearRegressor, стандартизация признаков и наличие outliers в датасете почти не влияют на точность предсказания\n",
    "- марки автомобилей в датасете представлены сильно неравномерно, а пробег - только до 150тыс.км.\n",
    "- датасет очищен от \"плохих\" объектов (имеющих много пропусков, дублирующихся или содержащих неправдободобные значения) и \"лишних\" признаков\n",
    "- данные собраны за 2014 - 2016гг."
   ]
  }
 ],
 "metadata": {
  "ExecuteTimeLog": [
   {
    "duration": 4,
    "start_time": "2022-07-04T04:59:41.413Z"
   },
   {
    "duration": 2316,
    "start_time": "2022-07-04T04:59:41.420Z"
   },
   {
    "duration": 1674,
    "start_time": "2022-07-04T04:59:43.738Z"
   },
   {
    "duration": 31,
    "start_time": "2022-07-04T04:59:45.415Z"
   },
   {
    "duration": 34,
    "start_time": "2022-07-04T04:59:45.452Z"
   },
   {
    "duration": 66,
    "start_time": "2022-07-04T04:59:45.488Z"
   },
   {
    "duration": 233,
    "start_time": "2022-07-04T04:59:45.556Z"
   },
   {
    "duration": 280,
    "start_time": "2022-07-04T04:59:45.792Z"
   },
   {
    "duration": 56,
    "start_time": "2022-07-04T04:59:46.075Z"
   },
   {
    "duration": 289,
    "start_time": "2022-07-04T04:59:46.134Z"
   },
   {
    "duration": 69,
    "start_time": "2022-07-04T04:59:46.425Z"
   },
   {
    "duration": 17,
    "start_time": "2022-07-04T04:59:46.497Z"
   },
   {
    "duration": 38534,
    "start_time": "2022-07-04T04:59:46.516Z"
   },
   {
    "duration": 17,
    "start_time": "2022-07-04T05:00:25.052Z"
   },
   {
    "duration": 47,
    "start_time": "2022-07-04T05:00:25.071Z"
   },
   {
    "duration": 5,
    "start_time": "2022-07-04T05:00:25.120Z"
   },
   {
    "duration": 26,
    "start_time": "2022-07-04T05:00:25.127Z"
   },
   {
    "duration": 594,
    "start_time": "2022-07-04T05:00:25.156Z"
   },
   {
    "duration": 673,
    "start_time": "2022-07-04T05:00:25.751Z"
   },
   {
    "duration": 559,
    "start_time": "2022-07-04T05:00:26.427Z"
   },
   {
    "duration": 3372,
    "start_time": "2022-07-04T05:00:26.987Z"
   },
   {
    "duration": 22516,
    "start_time": "2022-07-04T05:00:30.361Z"
   },
   {
    "duration": 408,
    "start_time": "2022-07-04T05:00:52.883Z"
   },
   {
    "duration": 80,
    "start_time": "2022-07-04T05:00:53.301Z"
   },
   {
    "duration": 860,
    "start_time": "2022-07-04T05:04:57.038Z"
   },
   {
    "duration": 575,
    "start_time": "2022-07-04T05:04:58.386Z"
   },
   {
    "duration": 6,
    "start_time": "2022-07-04T05:05:16.796Z"
   },
   {
    "duration": 769289,
    "start_time": "2022-07-04T05:05:20.849Z"
   },
   {
    "duration": 5,
    "start_time": "2022-07-04T05:18:10.142Z"
   },
   {
    "duration": 398279,
    "start_time": "2022-07-04T05:18:10.149Z"
   },
   {
    "duration": 0,
    "start_time": "2022-07-04T05:24:48.430Z"
   }
  ],
  "kernelspec": {
   "display_name": "Python 3",
   "language": "python",
   "name": "python3"
  },
  "language_info": {
   "codemirror_mode": {
    "name": "ipython",
    "version": 3
   },
   "file_extension": ".py",
   "mimetype": "text/x-python",
   "name": "python",
   "nbconvert_exporter": "python",
   "pygments_lexer": "ipython3",
   "version": "3.7.12"
  },
  "toc": {
   "base_numbering": 1,
   "nav_menu": {},
   "number_sections": true,
   "sideBar": true,
   "skip_h1_title": true,
   "title_cell": "Table of Contents",
   "title_sidebar": "Contents",
   "toc_cell": true,
   "toc_position": {
    "height": "calc(100% - 180px)",
    "left": "10px",
    "top": "150px",
    "width": "165px"
   },
   "toc_section_display": true,
   "toc_window_display": true
  }
 },
 "nbformat": 4,
 "nbformat_minor": 5
}
